{
 "cells": [
  {
   "cell_type": "code",
   "execution_count": 1,
   "id": "5accd4aa",
   "metadata": {},
   "outputs": [],
   "source": [
    "import pandas as pd\n",
    "from pandas_datareader import data as pdr\n",
    "import yfinance as yfin\n",
    "import numpy as np\n",
    "import matplotlib.pyplot as plt\n",
    "import seaborn as sns\n",
    "from scipy.stats import norm"
   ]
  },
  {
   "cell_type": "code",
   "execution_count": 34,
   "id": "fd0fbd60",
   "metadata": {},
   "outputs": [
    {
     "name": "stdout",
     "output_type": "stream",
     "text": [
      "[*********************100%***********************]  1 of 1 completed\n",
      "[*********************100%***********************]  1 of 1 completed\n",
      "                             WIPRO.NS         ^NSEI\n",
      "Date                                               \n",
      "2023-01-02 00:00:00+05:30  392.084259  18197.449219\n",
      "2023-01-03 00:00:00+05:30  396.074432  18232.550781\n",
      "2023-01-04 00:00:00+05:30  388.742523  18042.949219\n",
      "2023-01-05 00:00:00+05:30  385.949371  17992.150391\n",
      "2023-01-06 00:00:00+05:30  381.061432  17859.449219\n",
      "2023-01-09 00:00:00+05:30  390.837341  18101.199219\n",
      "2023-01-10 00:00:00+05:30  392.084259  17914.150391\n",
      "2023-01-11 00:00:00+05:30  392.882294  17895.699219\n",
      "2023-01-12 00:00:00+05:30  393.530701  17858.199219\n",
      "2023-01-13 00:00:00+05:30  392.932159  17956.599609\n",
      "2023-01-16 00:00:00+05:30  397.620636  17894.849609\n",
      "2023-01-17 00:00:00+05:30  395.376160  18053.300781\n",
      "2023-01-18 00:00:00+05:30  402.209351  18165.349609\n",
      "2023-01-19 00:00:00+05:30  402.408844  18107.849609\n",
      "2023-01-20 00:00:00+05:30  402.159454  18027.650391\n",
      "2023-01-23 00:00:00+05:30  406.000000  18118.550781\n",
      "2023-01-24 00:00:00+05:30  406.600006  18118.300781\n"
     ]
    }
   ],
   "source": [
    "yfin.pdr_override()\n",
    "\n",
    "data = pd.DataFrame()\n",
    "\n",
    "tickers = ['WIPRO.NS','^NSEI']\n",
    "\n",
    "for t in tickers:\n",
    "    \n",
    "    data[t] = pdr.get_data_yahoo(t,start='2023-01-01',end='2023-01-25')['Adj Close']\n",
    "\n",
    "print(data)"
   ]
  },
  {
   "cell_type": "code",
   "execution_count": 35,
   "id": "b1634052",
   "metadata": {},
   "outputs": [
    {
     "data": {
      "text/html": [
       "<div>\n",
       "<style scoped>\n",
       "    .dataframe tbody tr th:only-of-type {\n",
       "        vertical-align: middle;\n",
       "    }\n",
       "\n",
       "    .dataframe tbody tr th {\n",
       "        vertical-align: top;\n",
       "    }\n",
       "\n",
       "    .dataframe thead th {\n",
       "        text-align: right;\n",
       "    }\n",
       "</style>\n",
       "<table border=\"1\" class=\"dataframe\">\n",
       "  <thead>\n",
       "    <tr style=\"text-align: right;\">\n",
       "      <th></th>\n",
       "      <th>WIPRO.NS</th>\n",
       "      <th>^NSEI</th>\n",
       "    </tr>\n",
       "    <tr>\n",
       "      <th>Date</th>\n",
       "      <th></th>\n",
       "      <th></th>\n",
       "    </tr>\n",
       "  </thead>\n",
       "  <tbody>\n",
       "    <tr>\n",
       "      <th>2023-01-02 00:00:00+05:30</th>\n",
       "      <td>NaN</td>\n",
       "      <td>NaN</td>\n",
       "    </tr>\n",
       "    <tr>\n",
       "      <th>2023-01-03 00:00:00+05:30</th>\n",
       "      <td>0.010125</td>\n",
       "      <td>0.001927</td>\n",
       "    </tr>\n",
       "    <tr>\n",
       "      <th>2023-01-04 00:00:00+05:30</th>\n",
       "      <td>-0.018685</td>\n",
       "      <td>-0.010454</td>\n",
       "    </tr>\n",
       "    <tr>\n",
       "      <th>2023-01-05 00:00:00+05:30</th>\n",
       "      <td>-0.007211</td>\n",
       "      <td>-0.002819</td>\n",
       "    </tr>\n",
       "    <tr>\n",
       "      <th>2023-01-06 00:00:00+05:30</th>\n",
       "      <td>-0.012746</td>\n",
       "      <td>-0.007403</td>\n",
       "    </tr>\n",
       "    <tr>\n",
       "      <th>2023-01-09 00:00:00+05:30</th>\n",
       "      <td>0.025331</td>\n",
       "      <td>0.013445</td>\n",
       "    </tr>\n",
       "    <tr>\n",
       "      <th>2023-01-10 00:00:00+05:30</th>\n",
       "      <td>0.003185</td>\n",
       "      <td>-0.010387</td>\n",
       "    </tr>\n",
       "    <tr>\n",
       "      <th>2023-01-11 00:00:00+05:30</th>\n",
       "      <td>0.002033</td>\n",
       "      <td>-0.001031</td>\n",
       "    </tr>\n",
       "    <tr>\n",
       "      <th>2023-01-12 00:00:00+05:30</th>\n",
       "      <td>0.001649</td>\n",
       "      <td>-0.002098</td>\n",
       "    </tr>\n",
       "    <tr>\n",
       "      <th>2023-01-13 00:00:00+05:30</th>\n",
       "      <td>-0.001522</td>\n",
       "      <td>0.005495</td>\n",
       "    </tr>\n",
       "    <tr>\n",
       "      <th>2023-01-16 00:00:00+05:30</th>\n",
       "      <td>0.011861</td>\n",
       "      <td>-0.003445</td>\n",
       "    </tr>\n",
       "    <tr>\n",
       "      <th>2023-01-17 00:00:00+05:30</th>\n",
       "      <td>-0.005661</td>\n",
       "      <td>0.008816</td>\n",
       "    </tr>\n",
       "    <tr>\n",
       "      <th>2023-01-18 00:00:00+05:30</th>\n",
       "      <td>0.017135</td>\n",
       "      <td>0.006187</td>\n",
       "    </tr>\n",
       "    <tr>\n",
       "      <th>2023-01-19 00:00:00+05:30</th>\n",
       "      <td>0.000496</td>\n",
       "      <td>-0.003170</td>\n",
       "    </tr>\n",
       "    <tr>\n",
       "      <th>2023-01-20 00:00:00+05:30</th>\n",
       "      <td>-0.000620</td>\n",
       "      <td>-0.004439</td>\n",
       "    </tr>\n",
       "    <tr>\n",
       "      <th>2023-01-23 00:00:00+05:30</th>\n",
       "      <td>0.009504</td>\n",
       "      <td>0.005030</td>\n",
       "    </tr>\n",
       "    <tr>\n",
       "      <th>2023-01-24 00:00:00+05:30</th>\n",
       "      <td>0.001477</td>\n",
       "      <td>-0.000014</td>\n",
       "    </tr>\n",
       "  </tbody>\n",
       "</table>\n",
       "</div>"
      ],
      "text/plain": [
       "                           WIPRO.NS     ^NSEI\n",
       "Date                                         \n",
       "2023-01-02 00:00:00+05:30       NaN       NaN\n",
       "2023-01-03 00:00:00+05:30  0.010125  0.001927\n",
       "2023-01-04 00:00:00+05:30 -0.018685 -0.010454\n",
       "2023-01-05 00:00:00+05:30 -0.007211 -0.002819\n",
       "2023-01-06 00:00:00+05:30 -0.012746 -0.007403\n",
       "2023-01-09 00:00:00+05:30  0.025331  0.013445\n",
       "2023-01-10 00:00:00+05:30  0.003185 -0.010387\n",
       "2023-01-11 00:00:00+05:30  0.002033 -0.001031\n",
       "2023-01-12 00:00:00+05:30  0.001649 -0.002098\n",
       "2023-01-13 00:00:00+05:30 -0.001522  0.005495\n",
       "2023-01-16 00:00:00+05:30  0.011861 -0.003445\n",
       "2023-01-17 00:00:00+05:30 -0.005661  0.008816\n",
       "2023-01-18 00:00:00+05:30  0.017135  0.006187\n",
       "2023-01-19 00:00:00+05:30  0.000496 -0.003170\n",
       "2023-01-20 00:00:00+05:30 -0.000620 -0.004439\n",
       "2023-01-23 00:00:00+05:30  0.009504  0.005030\n",
       "2023-01-24 00:00:00+05:30  0.001477 -0.000014"
      ]
     },
     "execution_count": 35,
     "metadata": {},
     "output_type": "execute_result"
    }
   ],
   "source": [
    "sec_returns = np.log(data / data.shift(1))\n",
    "sec_returns"
   ]
  },
  {
   "cell_type": "code",
   "execution_count": 36,
   "id": "158b935b",
   "metadata": {},
   "outputs": [
    {
     "data": {
      "text/html": [
       "<div>\n",
       "<style scoped>\n",
       "    .dataframe tbody tr th:only-of-type {\n",
       "        vertical-align: middle;\n",
       "    }\n",
       "\n",
       "    .dataframe tbody tr th {\n",
       "        vertical-align: top;\n",
       "    }\n",
       "\n",
       "    .dataframe thead th {\n",
       "        text-align: right;\n",
       "    }\n",
       "</style>\n",
       "<table border=\"1\" class=\"dataframe\">\n",
       "  <thead>\n",
       "    <tr style=\"text-align: right;\">\n",
       "      <th></th>\n",
       "      <th>WIPRO.NS</th>\n",
       "      <th>^NSEI</th>\n",
       "    </tr>\n",
       "  </thead>\n",
       "  <tbody>\n",
       "    <tr>\n",
       "      <th>WIPRO.NS</th>\n",
       "      <td>0.030307</td>\n",
       "      <td>0.011713</td>\n",
       "    </tr>\n",
       "    <tr>\n",
       "      <th>^NSEI</th>\n",
       "      <td>0.011713</td>\n",
       "      <td>0.011454</td>\n",
       "    </tr>\n",
       "  </tbody>\n",
       "</table>\n",
       "</div>"
      ],
      "text/plain": [
       "          WIPRO.NS     ^NSEI\n",
       "WIPRO.NS  0.030307  0.011713\n",
       "^NSEI     0.011713  0.011454"
      ]
     },
     "execution_count": 36,
     "metadata": {},
     "output_type": "execute_result"
    }
   ],
   "source": [
    "cov = sec_returns.cov()*252 #Annualize by multiplying by 252 (trading days in a year)\n",
    "cov"
   ]
  },
  {
   "cell_type": "code",
   "execution_count": 37,
   "id": "4e8f6b4e",
   "metadata": {},
   "outputs": [
    {
     "data": {
      "text/plain": [
       "0.011713388897838543"
      ]
     },
     "execution_count": 37,
     "metadata": {},
     "output_type": "execute_result"
    }
   ],
   "source": [
    "cov_with_market = cov.iloc[0,1]\n",
    "cov_with_market"
   ]
  },
  {
   "cell_type": "code",
   "execution_count": 38,
   "id": "c0320ec6",
   "metadata": {},
   "outputs": [
    {
     "data": {
      "text/plain": [
       "0.011454273647280286"
      ]
     },
     "execution_count": 38,
     "metadata": {},
     "output_type": "execute_result"
    }
   ],
   "source": [
    "market_var = sec_returns['^NSEI'].var()*252\n",
    "market_var"
   ]
  },
  {
   "cell_type": "code",
   "execution_count": 39,
   "id": "df0ec3a5",
   "metadata": {},
   "outputs": [
    {
     "data": {
      "text/plain": [
       "1.0226217094629813"
      ]
     },
     "execution_count": 39,
     "metadata": {},
     "output_type": "execute_result"
    }
   ],
   "source": [
    "wipro_beta = cov_with_market / market_var\n",
    "wipro_beta"
   ]
  },
  {
   "cell_type": "code",
   "execution_count": 40,
   "id": "050b3a99",
   "metadata": {},
   "outputs": [
    {
     "data": {
      "text/plain": [
       "0.14458351966240868"
      ]
     },
     "execution_count": 40,
     "metadata": {},
     "output_type": "execute_result"
    }
   ],
   "source": [
    "riskfree = 0.073\n",
    "riskpremium = 0.07\n",
    "wipro_capm_return_1 = riskfree + wipro_beta*riskpremium\n",
    "wipro_capm_return_1"
   ]
  },
  {
   "cell_type": "code",
   "execution_count": 41,
   "id": "b72bf3e3",
   "metadata": {},
   "outputs": [],
   "source": [
    "riskfree = 0.073\n",
    "riskpremium = (sec_returns['^NSEI'].mean()*252) - riskfree\n",
    "wipro_capm_return = riskfree + wipro_beta*riskpremium"
   ]
  },
  {
   "cell_type": "code",
   "execution_count": 42,
   "id": "0488c965",
   "metadata": {},
   "outputs": [
    {
     "data": {
      "text/plain": [
       "-0.07185727937546006"
      ]
     },
     "execution_count": 42,
     "metadata": {},
     "output_type": "execute_result"
    }
   ],
   "source": [
    "wipro_capm_return"
   ]
  },
  {
   "cell_type": "code",
   "execution_count": 43,
   "id": "f9941e41",
   "metadata": {},
   "outputs": [],
   "source": [
    "log_returns = np.log(data / data.shift(1))\n",
    "sharpe_wipro = (wipro_capm_return_1-riskfree)/(log_returns['WIPRO.NS'].std()*250**0.5)"
   ]
  },
  {
   "cell_type": "code",
   "execution_count": 44,
   "id": "bd0fa6d5",
   "metadata": {},
   "outputs": [
    {
     "data": {
      "text/plain": [
       "0.4128329769471662"
      ]
     },
     "execution_count": 44,
     "metadata": {},
     "output_type": "execute_result"
    }
   ],
   "source": [
    "sharpe_wipro"
   ]
  },
  {
   "cell_type": "code",
   "execution_count": 45,
   "id": "94d2ad1a",
   "metadata": {},
   "outputs": [
    {
     "data": {
      "text/plain": [
       "0.17339583720214735"
      ]
     },
     "execution_count": 45,
     "metadata": {},
     "output_type": "execute_result"
    }
   ],
   "source": [
    "lr = log_returns['WIPRO.NS'].std()*250**0.5\n",
    "lr"
   ]
  },
  {
   "cell_type": "code",
   "execution_count": 46,
   "id": "f50ad3f5",
   "metadata": {},
   "outputs": [
    {
     "name": "stdout",
     "output_type": "stream",
     "text": [
      "Beta: 1.02\n",
      "Sharpe: 0.41\n",
      "CAPM Return: -7%\n"
     ]
    }
   ],
   "source": [
    "print(f\"Beta: {round(wipro_beta,2)}\")\n",
    "print(f\"Sharpe: {round(sharpe_wipro,2)}\") \n",
    "print(f\"CAPM Return: {round(100*wipro_capm_return)}%\")"
   ]
  },
  {
   "cell_type": "code",
   "execution_count": null,
   "id": "64a52ff9",
   "metadata": {},
   "outputs": [],
   "source": []
  }
 ],
 "metadata": {
  "kernelspec": {
   "display_name": "Python 3 (ipykernel)",
   "language": "python",
   "name": "python3"
  },
  "language_info": {
   "codemirror_mode": {
    "name": "ipython",
    "version": 3
   },
   "file_extension": ".py",
   "mimetype": "text/x-python",
   "name": "python",
   "nbconvert_exporter": "python",
   "pygments_lexer": "ipython3",
   "version": "3.9.13"
  }
 },
 "nbformat": 4,
 "nbformat_minor": 5
}
